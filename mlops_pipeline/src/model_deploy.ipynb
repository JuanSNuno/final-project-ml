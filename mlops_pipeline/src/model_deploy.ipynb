{
 "cells": [
  {
   "cell_type": "markdown",
   "id": "58d4ca77",
   "metadata": {},
   "source": [
    "# Despliegue del modelo\n",
    "Notebook de ejemplo para desplegar el modelo en un endpoint (simulado)."
   ]
  }
 ],
 "metadata": {
  "language_info": {
   "name": "python"
  }
 },
 "nbformat": 4,
 "nbformat_minor": 5
}
