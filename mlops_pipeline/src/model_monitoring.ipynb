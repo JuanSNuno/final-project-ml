{
 "cells": [
  {
   "cell_type": "markdown",
   "id": "e8c08133",
   "metadata": {},
   "source": [
    "# Monitoreo y detección de datadrift\n",
    "Notebook para monitoreo de métricas y detección de drift en el dataset."
   ]
  }
 ],
 "metadata": {
  "language_info": {
   "name": "python"
  }
 },
 "nbformat": 4,
 "nbformat_minor": 5
}
