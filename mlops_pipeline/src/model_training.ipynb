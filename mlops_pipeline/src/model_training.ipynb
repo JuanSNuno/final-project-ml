{
 "cells": [
  {
   "cell_type": "markdown",
   "id": "e852dd63",
   "metadata": {},
   "source": [
    "# Entrenamiento de modelos\n",
    "Notebook para entrenar y comparar modelos."
   ]
  }
 ],
 "metadata": {
  "language_info": {
   "name": "python"
  }
 },
 "nbformat": 4,
 "nbformat_minor": 5
}
