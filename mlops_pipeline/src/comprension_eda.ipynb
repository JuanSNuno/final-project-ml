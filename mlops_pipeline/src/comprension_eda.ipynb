{
 "cells": [
  {
   "cell_type": "markdown",
   "id": "731a0ae0",
   "metadata": {},
   "source": [
    "# Comprensión y EDA\n",
    "Notebook para análisis exploratorio de datos (estadísticas, visualizaciones, detección de valores faltantes, distribución de variables)."
   ]
  }
 ],
 "metadata": {
  "language_info": {
   "name": "python"
  }
 },
 "nbformat": 4,
 "nbformat_minor": 5
}
