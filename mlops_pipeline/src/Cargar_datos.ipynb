{
 "cells": [
  {
   "cell_type": "markdown",
   "id": "2c0f8a19",
   "metadata": {},
   "source": [
    "# Cargar datos\n",
    "Este notebook contiene pasos de ejemplo para cargar el dataset (CSV).\n",
    "\n",
    "Nota: este notebook es de ejemplo y no está pensado para producción."
   ]
  }
 ],
 "metadata": {
  "language_info": {
   "name": "python"
  }
 },
 "nbformat": 4,
 "nbformat_minor": 5
}
