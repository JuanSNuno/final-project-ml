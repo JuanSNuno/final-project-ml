{
 "cells": [
  {
   "cell_type": "markdown",
   "id": "d4d94216",
   "metadata": {},
   "source": [
    "# Evaluación del modelo\n",
    "Notebook para calcular métricas y validar el modelo desplegado."
   ]
  }
 ],
 "metadata": {
  "language_info": {
   "name": "python"
  }
 },
 "nbformat": 4,
 "nbformat_minor": 5
}
